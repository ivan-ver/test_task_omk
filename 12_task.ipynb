{
 "cells": [
  {
   "cell_type": "code",
   "execution_count": 1,
   "metadata": {},
   "outputs": [],
   "source": [
    "import pytesseract\n",
    "import cv2\n",
    "import matplotlib.pyplot as plt\n",
    "from PIL import Image\n",
    "from collections import Counter"
   ]
  },
  {
   "cell_type": "code",
   "execution_count": 2,
   "metadata": {},
   "outputs": [],
   "source": [
    "# Загружема изображение\n",
    "image = cv2.imread(\"Hymn_text.jpg\")"
   ]
  },
  {
   "cell_type": "code",
   "execution_count": 3,
   "metadata": {},
   "outputs": [],
   "source": [
    "string = pytesseract.image_to_string(image, lang='rus')\n",
    "# в строке: удаляем небуквенные символы в начале и в конце; заменяем переход на др. строку пробелом; заменяем все буквы на строчные\n",
    "result = string.strip().replace('\\n', ' ').lower()"
   ]
  },
  {
   "cell_type": "code",
   "execution_count": 4,
   "metadata": {},
   "outputs": [
    {
     "name": "stdout",
     "output_type": "stream",
     "text": [
      "государственный гимн российской федерации (слова с.в.михалкова)  россия - священная наша держава, россия - любимая наша страна. могучая воля, великая слава -  твое достоянье на все времена! славься, отечество наше свободное, братских народов союз вековой, предками данная мудрость народная! славься, страна! мы гордимся тобой! от южных морей до полярного края раскинулись наши леса и поля.  одна ты на свете! одна ты такая - хранимая богом родная земля! славься, отечество наше свободное, братских народов союз вековой, предками данная мудрость народная! славься, страна! мы гордимся тобой! широкий простор для мечты и для жизни грядущие нам открывают года.  нам силу дает наша верность отчизне. так было, так есть итак будет всегда! славься, отечество наше свободное, братских народов союз вековой, предками данная мудрость народная! славься, страна! мы гордимся тобой!\n"
     ]
    }
   ],
   "source": [
    "print(result)"
   ]
  },
  {
   "cell_type": "code",
   "execution_count": 5,
   "metadata": {},
   "outputs": [],
   "source": [
    "cntr = Counter()\n",
    "cntr.update(result)"
   ]
  },
  {
   "cell_type": "code",
   "execution_count": 6,
   "metadata": {},
   "outputs": [
    {
     "data": {
      "text/plain": [
       "[(' ', 127),\n",
       " ('а', 80),\n",
       " ('о', 77),\n",
       " ('с', 58),\n",
       " ('н', 50),\n",
       " ('е', 42),\n",
       " ('р', 41),\n",
       " ('т', 39),\n",
       " ('в', 37),\n",
       " ('д', 36)]"
      ]
     },
     "execution_count": 6,
     "metadata": {},
     "output_type": "execute_result"
    }
   ],
   "source": [
    "# 10 наиболее часто встречающихся в тексте букв\n",
    "cntr.most_common()[:10]"
   ]
  },
  {
   "cell_type": "code",
   "execution_count": 7,
   "metadata": {},
   "outputs": [
    {
     "name": "stdout",
     "output_type": "stream",
     "text": [
      "Символ  \"а\" встречается в тексте 80 раз(а)\n",
      "Символ  \"б\" встречается в тексте 13 раз(а)\n",
      "Символ  \"в\" встречается в тексте 37 раз(а)\n",
      "Символ  \"х\" встречается в тексте 6 раз(а)\n",
      "Символ  \"!\" встречается в тексте 13 раз(а)\n",
      "Символ  \"п\" встречается в тексте 6 раз(а)\n",
      "Символ  \"л\" встречается в тексте 21 раз(а)\n",
      "Символ  \" \" встречается в тексте 127 раз(а)\n"
     ]
    }
   ],
   "source": [
    "for i in [\"а\", \"б\", \"в\", \"х\", \"!\", \"п\", \"л\", \" \"]:\n",
    "    print(f\"Символ  \\\"{i}\\\" встречается в тексте {cntr.get(i)} раз(а)\")"
   ]
  },
  {
   "cell_type": "code",
   "execution_count": null,
   "metadata": {},
   "outputs": [],
   "source": []
  }
 ],
 "metadata": {
  "interpreter": {
   "hash": "ce96d18428a423c525a3f0ed973f5e48e845aa99864a704e334219c0da2a8fc7"
  },
  "kernelspec": {
   "display_name": "Python 3.8.8 ('base')",
   "language": "python",
   "name": "python3"
  },
  "language_info": {
   "codemirror_mode": {
    "name": "ipython",
    "version": 3
   },
   "file_extension": ".py",
   "mimetype": "text/x-python",
   "name": "python",
   "nbconvert_exporter": "python",
   "pygments_lexer": "ipython3",
   "version": "3.8.8"
  },
  "orig_nbformat": 4
 },
 "nbformat": 4,
 "nbformat_minor": 2
}
